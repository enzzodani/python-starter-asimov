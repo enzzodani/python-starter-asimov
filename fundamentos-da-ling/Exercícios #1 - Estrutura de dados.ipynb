{
 "cells": [
  {
   "cell_type": "markdown",
   "metadata": {},
   "source": [
    "<img src=\"https://asimov.academy/wp-content/uploads/2021/01/logo.png\" width=\"200\"/>\n",
    "_____________________________________________\n",
    "\n",
    "## Exercícios #1 - Estruturas de dados\n"
   ]
  },
  {
   "cell_type": "markdown",
   "metadata": {},
   "source": [
    "### Exercício 1\n",
    "Utilizando o built-in method input(), crie um programa que receba a altura e o peso de uma pessoa e imprima na tela o IMC da mesma."
   ]
  },
  {
   "cell_type": "code",
   "execution_count": null,
   "metadata": {},
   "outputs": [],
   "source": [
    "def IMC(altura, peso):\n",
    "    return peso / (altura**2)\n",
    "\n",
    "print(\"Coloque seu peso: \")\n",
    "peso = float(input())\n",
    "print('Coloque sua altura: ')\n",
    "altura = float(input())\n",
    "\n",
    "\n",
    "print(\"Seu IMC é {}\".format(round(IMC(altura, peso),2)))"
   ]
  },
  {
   "cell_type": "markdown",
   "metadata": {},
   "source": [
    "### Exercício 2 \n",
    "Escreva um programa que pergunte o nome completo do usuário e cumprimente o mesmo pelo primeiro nome."
   ]
  },
  {
   "cell_type": "code",
   "execution_count": 10,
   "metadata": {},
   "outputs": [
    {
     "name": "stdout",
     "output_type": "stream",
     "text": [
      "Escreva seu nome: \n",
      "Olá, Enzo\n"
     ]
    }
   ],
   "source": [
    "def saudacao(nome):\n",
    "    print(\"Olá, {}\".format(nome))\n",
    "    \n",
    "print(\"Escreva seu nome: \")\n",
    "nome = input()\n",
    "primeiro_nome = nome.split(\" \")[0]\n",
    "\n",
    "saudacao(primeiro_nome)"
   ]
  },
  {
   "cell_type": "markdown",
   "metadata": {},
   "source": [
    "### Exercício 3\n",
    "Desenho um código que extraia o domínio de um e-mail informado."
   ]
  },
  {
   "cell_type": "code",
   "execution_count": 13,
   "metadata": {},
   "outputs": [
    {
     "name": "stdout",
     "output_type": "stream",
     "text": [
      "Informe seu email: \n",
      "O domínio do email é: gmail.com\n"
     ]
    }
   ],
   "source": [
    "print(\"Informe seu email: \")\n",
    "email = input()\n",
    "dominio = email.split(\"@\")[1]\n",
    "print(\"O domínio do email é: {}\".format(dominio))"
   ]
  },
  {
   "cell_type": "markdown",
   "metadata": {},
   "source": [
    "### Exercício 4 \n",
    "Faça um programa para uma loja de tintas. A pessoa informa a área em m2 que deseja pintar, e o script calculará a quantidade de latas de tinta que a pessoa deve comprar e o valor. Considere que cada litro de tinta pinta 3m2, que cada lata contém 18L e que custa R$ 80."
   ]
  },
  {
   "cell_type": "code",
   "execution_count": 16,
   "metadata": {},
   "outputs": [
    {
     "name": "stdout",
     "output_type": "stream",
     "text": [
      "Informe a area que deseja pintar: \n",
      "Precisa de 0 latas, que irá custar R$ 0,00\n"
     ]
    }
   ],
   "source": [
    "lata_total = 3 * 18 #O quanto uma lata pinta\n",
    "lata_preco = 80\n",
    "\n",
    "def quantidadeLataEPreco (area):\n",
    "    quantidade = round(area/lata_total)\n",
    "    preco = lata_preco * quantidade\n",
    "    print('Precisa de {} latas, que irá custar R$ {},00'.format(quantidade, preco))\n",
    "\n",
    "print('Informe a area que deseja pintar: ')\n",
    "area = float(input()*1)\n",
    "\n",
    "quantidadeLataEPreco(area)"
   ]
  },
  {
   "cell_type": "markdown",
   "metadata": {},
   "source": [
    "### Exercício 5\n",
    "Faça um Programa que pergunte quanto você ganha por hora e o número de horas trabalhadas no mês. Calcule e mostre o total do seu salário no referido mês, sabendo-se que são descontados 11% para o Imposto de Renda, 8% para o INSS e 5% para o sindicato, faça um programa que nos dê:\n",
    "1. Salário bruto.\n",
    "2. Quanto pagou ao INSS.\n",
    "3. Quanto pagou ao sindicato.\n",
    "4. O salário líquido."
   ]
  },
  {
   "cell_type": "code",
   "execution_count": 17,
   "metadata": {},
   "outputs": [
    {
     "name": "stdout",
     "output_type": "stream",
     "text": [
      "Coloque seu salário: \n",
      "Coloque a quantidade de horas trabalhadas: \n",
      "Salário Bruto = R$ 144000,00\n",
      "Pago ao INSS = R$ 15840,00\n",
      "Pago ao sindicato = R$ 11520,00\n",
      "Salário Líquido = R$ 116640,00\n"
     ]
    }
   ],
   "source": [
    "def salario_bruto(salario, horas_trabalhadas):\n",
    "    return round(horas_trabalhadas * salario * 30)\n",
    "\n",
    "def pago_INSS(salario_bruto):\n",
    "    return round(0.11 * salario_bruto)\n",
    "\n",
    "def pago_sindicato(salario_bruto):\n",
    "    return round(salario_bruto * 0.08)\n",
    "\n",
    "def salario_liquido(salario_bruto, pago_inss, pago_sindicato):\n",
    "    return salario_bruto - pago_inss - pago_sindicato\n",
    "\n",
    "def print_info(salario_bruto, pago_inss, pago_sindicato, salario_liquido):\n",
    "    print('Salário Bruto = R$ {},00'.format(salario_bruto))\n",
    "    print('Pago ao INSS = R$ {},00'.format(pago_inss))\n",
    "    print('Pago ao sindicato = R$ {},00'.format(pago_sindicato))\n",
    "    print(\"Salário Líquido = R$ {},00\".format(salario_liquido))\n",
    "    \n",
    "print(\"Coloque seu salário: \")\n",
    "salario = float(input())\n",
    "\n",
    "print(\"Coloque a quantidade de horas trabalhadas: \")\n",
    "horas_trabalhadas = float(input())\n",
    "\n",
    "salario_bruto = salario_bruto(salario, horas_trabalhadas)\n",
    "pago_inss = pago_INSS(salario_bruto)\n",
    "pago_sindicato = pago_sindicato(salario_bruto)\n",
    "salario_liquido = salario_liquido(salario_bruto, pago_inss, pago_sindicato)\n",
    "\n",
    "print_info(salario_bruto, pago_inss, pago_sindicato, salario_liquido)"
   ]
  },
  {
   "cell_type": "code",
   "execution_count": null,
   "metadata": {},
   "outputs": [],
   "source": []
  }
 ],
 "metadata": {
  "kernelspec": {
   "display_name": "Python 3",
   "language": "python",
   "name": "python3"
  },
  "language_info": {
   "codemirror_mode": {
    "name": "ipython",
    "version": 3
   },
   "file_extension": ".py",
   "mimetype": "text/x-python",
   "name": "python",
   "nbconvert_exporter": "python",
   "pygments_lexer": "ipython3",
   "version": "3.11.7"
  }
 },
 "nbformat": 4,
 "nbformat_minor": 4
}
